{
 "cells": [
  {
   "cell_type": "code",
   "execution_count": 84,
   "metadata": {},
   "outputs": [],
   "source": [
    "import numpy as np\n",
    "import pandas as pd\n",
    "import tensorflow as tf\n",
    "import matplotlib.pyplot as plt\n",
    "import sklearn\n",
    "from sklearn.model_selection import *\n",
    "from sklearn.compose import ColumnTransformer\n",
    "from sklearn.impute import SimpleImputer , KNNImputer\n",
    "import matplotlib.pyplot as plt\n",
    "from matplotlib.pyplot import figure\n",
    "from sklearn.preprocessing import *\n",
    "from sklearn.pipeline import *\n",
    "from sklearn.tree import *\n",
    "from sklearn.metrics import *\n",
    "from sklearn.model_selection import train_test_split\n",
    "from sklearn.preprocessing import StandardScaler\n",
    "from sklearn.linear_model import *"
   ]
  },
  {
   "cell_type": "code",
   "execution_count": 85,
   "metadata": {},
   "outputs": [],
   "source": [
    "df = pd.read_csv('tabular-playground/train.csv')\n",
    "df = df.drop('id' , axis = 1)"
   ]
  },
  {
   "cell_type": "code",
   "execution_count": 86,
   "metadata": {},
   "outputs": [],
   "source": [
    "train_df = df.iloc[: ,  :-1]\n",
    "label_df = df.iloc[: , -1]\n",
    "features = train_df.columns"
   ]
  },
  {
   "cell_type": "code",
   "execution_count": 87,
   "metadata": {},
   "outputs": [],
   "source": [
    "categorical_columns = []\n",
    "numerical_columns = []\n",
    "potential_categorical_columns = []\n",
    "\n",
    "numeric_columns = train_df.select_dtypes(exclude=['object']).columns\n",
    "for name in numeric_columns:\n",
    "    unique_vals = len(df[name].value_counts())\n",
    "    if(unique_vals <= 10):\n",
    "        potential_categorical_columns.append(name)\n",
    "    numerical_columns.append(name)\n",
    "    \n",
    "    \n",
    "non_numeric_columns = train_df.select_dtypes(include=['object']).columns\n",
    "for name in non_numeric_columns:\n",
    "    categorical_columns.append(name)"
   ]
  },
  {
   "cell_type": "code",
   "execution_count": 88,
   "metadata": {},
   "outputs": [],
   "source": [
    "def data_preprocessing(new_df , numerical_col , categorical_col):\n",
    "    nn = []\n",
    "    cc = []\n",
    "    for f in new_df.columns:\n",
    "        if f in numerical_col:\n",
    "            nn.append(f)\n",
    "        else:\n",
    "            cc.append(f)\n",
    "    # print(nn)\n",
    "    # print(cc)\n",
    "    # random.shuffle(nn)\n",
    "    # random.shuffle(cc)\n",
    "    numerical_pipe = Pipeline([\n",
    "        ('impute', SimpleImputer()),\n",
    "        ('scale', MinMaxScaler()),\n",
    "    ])\n",
    "    categorical_pipe = Pipeline([\n",
    "        ('encode', OrdinalEncoder())\n",
    "    ])\n",
    "    preprocessor = ColumnTransformer([\n",
    "        ('numeric', numerical_pipe, nn),\n",
    "        ('categorical', categorical_pipe, cc),\n",
    "    ])    \n",
    "    return preprocessor\n",
    "\n",
    "\n",
    "def feature_engineering(df , num_col , cat_col , try_add_m3m5_missing , try_self_defined_columns , try_drop_attr2 , try_drop_attr3):\n",
    "    df_modified = df.copy()\n",
    "    if try_add_m3m5_missing == True:\n",
    "        df_modified['m_3_missing'] = df_modified.measurement_3.isna()\n",
    "        df_modified['m_5_missing'] = df_modified.measurement_5.isna()\n",
    "        cat_col = cat_col + [\"m_3_missing\" , \"m_5_missing\"]\n",
    "    if try_drop_attr2 == True :\n",
    "        df_modified = df_modified.drop([\"attribute_2\"] , axis = 1)\n",
    "        num_col = list(set(num_col) - set([\"attribute_2\"]))\n",
    "    if try_drop_attr3 == True :\n",
    "        df_modified = df_modified.drop([\"attribute_3\"] , axis = 1)\n",
    "        num_col = list(set(num_col) - set([\"attribute_3\"]))\n",
    "    if try_self_defined_columns == True and try_drop_attr2 == False and try_drop_attr3 == False:\n",
    "        cat_col = cat_col + [\"attribute_2\" , \"attribute_3\"]\n",
    "        num_col = list(set(num_col) - set([\"attribute_2\" , \"attribute_3\"])) \n",
    "\n",
    "    return df_modified , num_col , cat_col"
   ]
  },
  {
   "cell_type": "code",
   "execution_count": 89,
   "metadata": {},
   "outputs": [],
   "source": [
    "from tensorflow import keras\n",
    "from tensorflow.keras import layers\n",
    "from tqdm import tqdm"
   ]
  },
  {
   "cell_type": "code",
   "execution_count": 90,
   "metadata": {},
   "outputs": [
    {
     "name": "stdout",
     "output_type": "stream",
     "text": [
      "650/650 [==============================] - 0s 432us/step\n"
     ]
    }
   ],
   "source": [
    "model = tf.keras.models.load_model('Neural Network model weight/NN.h5')\n",
    "# print(model.coef_)\n",
    "try_add_m3m5_missing = True \n",
    "try_self_defined_columns = False\n",
    "try_drop_attr2 = True\n",
    "try_drop_attr3 = True\n",
    "test_df = pd.read_csv('tabular-playground/test.csv')\n",
    "id_ = test_df['id']\n",
    "test_df = test_df.drop([\"id\"] , axis = 1)\n",
    "new_test_df , num_col , cat_col = feature_engineering(test_df , numerical_columns ,\n",
    "categorical_columns , try_add_m3m5_missing , try_self_defined_columns , try_drop_attr2 , try_drop_attr3)\n",
    "preprocessor = data_preprocessing(new_test_df , num_col , cat_col)\n",
    "preprocessed_new_test = preprocessor.fit_transform(new_test_df)\n",
    "prob = model.predict(preprocessed_new_test)\n",
    "df_subb = pd.read_csv('tabular-playground/sample_submission.csv')\n",
    "df_subb.failure = prob\n",
    "df_subb.to_csv('NN_eval.csv', index = None)"
   ]
  }
 ],
 "metadata": {
  "kernelspec": {
   "display_name": "Brian",
   "language": "python",
   "name": "brian"
  },
  "language_info": {
   "codemirror_mode": {
    "name": "ipython",
    "version": 3
   },
   "file_extension": ".py",
   "mimetype": "text/x-python",
   "name": "python",
   "nbconvert_exporter": "python",
   "pygments_lexer": "ipython3",
   "version": "3.10.6"
  },
  "orig_nbformat": 4,
  "vscode": {
   "interpreter": {
    "hash": "3c766659d28f7044b172069f3f01d7c11c086cd9952e19d6689b2090204ea3b1"
   }
  }
 },
 "nbformat": 4,
 "nbformat_minor": 2
}
